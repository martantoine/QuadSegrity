{
 "cells": [
  {
   "cell_type": "code",
   "execution_count": 37,
   "metadata": {},
   "outputs": [
    {
     "ename": "SyntaxError",
     "evalue": "unmatched ')' (412388153.py, line 11)",
     "output_type": "error",
     "traceback": [
      "\u001b[0;36m  Cell \u001b[0;32mIn[37], line 11\u001b[0;36m\u001b[0m\n\u001b[0;31m    d = np.sqrt(A**2+B**2)*np.sin(angle)*A/np.sqrt(A**2+B**2-2*A*B*np.cos(angle)))\u001b[0m\n\u001b[0m                                                                                 ^\u001b[0m\n\u001b[0;31mSyntaxError\u001b[0m\u001b[0;31m:\u001b[0m unmatched ')'\n"
     ]
    }
   ],
   "source": [
    "import matplotlib.pyplot as plt\n",
    "import numpy as np\n",
    "from sklearn.linear_model import LinearRegression\n",
    "\n",
    "g = 9.81\n",
    "joint_lever = 0.03\n",
    "A = 0.05\n",
    "B = 0.03\n",
    "\n",
    "def momemtum(force, angle):\n",
    "    d = np.sqrt(A**2+B**2)*np.sin(angle)*A/np.sqrt(A**2+B**2-2*A*B*np.cos(angle))\n",
    "    return force / angle * d\n",
    "\n",
    "pressures   = np.array([ 0,    1,    2,    3,    4])\n",
    "free_force  = np.array([ 0, 1.25,    5,  8.5, 11.6]) * g\n",
    "free_length = np.array([78,   77, 76.2, 75.5,   75])\n",
    "\n",
    "\n",
    "old_joint_length = np.array([78, 73, 70.5, 69, 67.5])\n",
    "new_joint_length = np.array([78, 76.5, 73.25, 70.25, 67.525])\n",
    "\n",
    "old_joint_dangle  = np.deg2rad(np.array([-21.21, -39.6, -77.04, -82.25, -83.6]))\n",
    "newA_joint_dangle = np.deg2rad(np.array([-6.44, -7.98, -23.86, -44.63, -66.28]))\n",
    "newB_joint_dangle = np.deg2rad(np.array([3.46, 1.8, -10.83, -33.4, -50.31]))\n",
    "\n",
    "old_joint_dangle = old_joint_dangle - old_joint_dangle[0]\n",
    "new_joint_dangle = (newA_joint_dangle - newA_joint_dangle[0] + newB_joint_dangle - newB_joint_dangle[0]) / 2\n",
    "\n",
    "moments = np.array([momemtum(free_force[i], old_joint_dangle[i]) for i in [0, 1, 2, 3, 4]])\n",
    "\n",
    "plt.plot(free_force, new_joint_dangle, color=\"red\", label=\"new joint\")\n",
    "#plt.plot(free_force, old_joint_dangle, color=\"blue\", label=\"old joint\")\n",
    "plt.xlabel(\"Force (N)\")\n",
    "plt.ylabel(\"Angle deflexion (rad)\")\n",
    "plt.legend()\n",
    "plt.show()\n",
    "\n",
    "k = abs(np.mean([(moments[i] / new_joint_dangle[i]) for i in [1, 2, 3, 4]]))\n",
    "print(k, k * 2 * np.pi / 360)"
   ]
  }
 ],
 "metadata": {
  "kernelspec": {
   "display_name": ".env",
   "language": "python",
   "name": "python3"
  },
  "language_info": {
   "codemirror_mode": {
    "name": "ipython",
    "version": 3
   },
   "file_extension": ".py",
   "mimetype": "text/x-python",
   "name": "python",
   "nbconvert_exporter": "python",
   "pygments_lexer": "ipython3",
   "version": "3.11.8"
  }
 },
 "nbformat": 4,
 "nbformat_minor": 2
}
