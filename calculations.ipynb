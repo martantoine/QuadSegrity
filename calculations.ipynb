{
 "cells": [
  {
   "cell_type": "code",
   "execution_count": 259,
   "metadata": {},
   "outputs": [
    {
     "name": "stdout",
     "output_type": "stream",
     "text": [
      "a: 0.05m, b: 0.156123917870677m, c: 0.138088673821411m\n",
      "m: 2kg, d: 0.2m, angle offset: 10.0deg, k: 6.44N/m\n",
      "force: 186.033998193746N\n"
     ]
    }
   ],
   "source": [
    "from sympy import symbols, solve, N, cos, sin, pi, sqrt\n",
    "import numpy as np\n",
    "\n",
    "g=9.81\n",
    "theta = 2*pi/360*40\n",
    "n=0.2\n",
    "\n",
    "aR=0.05\n",
    "mR=2\n",
    "dR=0.2\n",
    "alphaR=10/360*2*pi\n",
    "\n",
    "a, bma, c = symbols('a bma c', positive=True, real=True) #bma = b-a\n",
    "\n",
    "eqs = [a**2+(a+bma)**2-2*a*(a+bma)*cos(pi/3)-c**2, a**2+(a+bma)**2-2*a*(a+bma)*cos(pi/3-theta)-(c*(1-n))**2]\n",
    "solutions = solve(eqs, [c, bma], dict=True)\n",
    "b = solutions[0][bma].evalf(subs={a:aR}) + aR\n",
    "c = solutions[0][c].evalf(subs={a:aR})\n",
    "print(f\"a: {aR}m, b: {b}m, c: {c}m\")\n",
    "\n",
    "m, d, k = symbols('m d k', positive=True, real=True)\n",
    "solutions = solve([m*g/4*d*cos(alphaR+pi/6)*2+2*0.5*k*(alphaR**2)-m*g/4*d*cos(pi/6)*2], k, dict=True)\n",
    "kR = N(solutions[0][k].evalf(subs={m:mR, d:dR}),3)\n",
    "print(f\"m: {mR}kg, d: {dR}m, angle offset: {np.rad2deg(float(alphaR))}deg, k: {kR}N/m\")\n",
    "\n",
    "F, gamma = symbols('F gamma', positive=True, real=True)\n",
    "solutions = solve([theta*kR-F*a*sin(gamma), -b**2+a**2+(c*(1-n))**2-2*a*c*(1-n)*cos(gamma)], [F, gamma], dict=True)\n",
    "fR = solutions[1][F].subs({a:aR, k:kR}).evalf()\n",
    "print(f\"force: {fR}N\")\n"
   ]
  },
  {
   "cell_type": "code",
   "execution_count": 260,
   "metadata": {},
   "outputs": [
    {
     "name": "stdout",
     "output_type": "stream",
     "text": [
      "max force: 159.160937812493\n",
      "0.236237384174027\n"
     ]
    }
   ],
   "source": [
    "\n",
    "D0 = 0.02\n",
    "p = 4 * 101325\n",
    "mesh_angle = pi/6\n",
    "fmax = (pi*(D0**2)*p/4*(3*(cos(mesh_angle)**2)-1)).evalf()\n",
    "print(f\"max force: {fmax}\")\n",
    "\n",
    "print((1-sqrt( (1/(3* (cos(mesh_angle)**2) )) * (1 + (4*(sin(mesh_angle)**2)/ (pi*(D0**2)) *(fmax/p) )))).evalf())"
   ]
  }
 ],
 "metadata": {
  "kernelspec": {
   "display_name": "Python 3",
   "language": "python",
   "name": "python3"
  },
  "language_info": {
   "codemirror_mode": {
    "name": "ipython",
    "version": 3
   },
   "file_extension": ".py",
   "mimetype": "text/x-python",
   "name": "python",
   "nbconvert_exporter": "python",
   "pygments_lexer": "ipython3",
   "version": "3.12.2"
  }
 },
 "nbformat": 4,
 "nbformat_minor": 2
}
