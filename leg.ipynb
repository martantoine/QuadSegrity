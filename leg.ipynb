{
 "cells": [
  {
   "cell_type": "code",
   "execution_count": 8,
   "metadata": {},
   "outputs": [],
   "source": [
    "import mujoco\n",
    "import mediapy as media\n",
    "import numpy as np"
   ]
  },
  {
   "cell_type": "code",
   "execution_count": 10,
   "metadata": {},
   "outputs": [
    {
     "data": {
      "text/html": [
       "<table class=\"show_images\" style=\"border-spacing:0px;\"><tr><td style=\"padding:1px;\"><img width=\"320\" height=\"240\" style=\"image-rendering:auto; object-fit:cover;\" src=\"data:image/png;base64,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\"/></td></tr></table>"
      ],
      "text/plain": [
       "<IPython.core.display.HTML object>"
      ]
     },
     "metadata": {},
     "output_type": "display_data"
    }
   ],
   "source": [
    "if 'renderer' in locals():\n",
    "    del renderer\n",
    "if 'model' in locals():\n",
    "    del model\n",
    "if 'data' in locals():\n",
    "    del data\n",
    "\n",
    "\n",
    "xml = \"\"\"\n",
    "<mujoco>\n",
    "  <option timestep=\"0.005\" iterations=\"50\" integrator=\"RK4\" tolerance=\"1e-10\"/>\n",
    "\n",
    "  <default>\n",
    "\t  <!--<joint type=\"hinge\" pos=\"0 0 0\" axis=\"0 0 1\" limited=\"true\" range=\"0 120\" damping=\"0.1\"/>-->\n",
    "    <joint type=\"ball\"/>\n",
    "    <muscle ctrllimited=\"true\" ctrlrange=\"-1000 1000\"/>\n",
    "    <geom size=\"0.003\" mass=\"0.1\" rgba=\".5 .1 .1 1\"/>\n",
    "    <site size=\"0.005\" rgba=\"0 .7 0 1\"/>\n",
    "    <tendon rgba=\"0 1 0 1\" stiffness=\"1000\" damping=\"15\"/>\n",
    "  </default>\n",
    "\n",
    "  <asset>\n",
    "    <texture name=\"texplane\" type=\"2d\" builtin=\"checker\" rgb1=\".25 .25 .25\" rgb2=\".28 .28 .28\" width=\"512\" height=\"512\" markrgb=\".8 .8 .8\"/>\n",
    "    <material name=\"matplane\" reflectance=\"0.1\" texture=\"texplane\" texrepeat=\"1 1\" texuniform=\"true\"/>\n",
    "  </asset>\n",
    "\n",
    "  <worldbody>   \n",
    "    <geom name=\"floor\" rgba=\"1 1 1 1\" pos=\"0 0 -0.35\" size=\"0 0 1\" type=\"plane\" material=\"matplane\"/>\n",
    "    <light directional=\"true\" diffuse=\".8 .8 .8\" specular=\".2 .2 .2\" pos=\"0 0 5\" dir=\"0 0 -1\"/>\n",
    "  </worldbody>\n",
    "</mujoco>\n",
    "\"\"\"\n",
    "model = mujoco.MjModel.from_xml_string(xml)\n",
    "model = mujoco.MjModel.from_xml_string(xml)\n",
    "data = mujoco.MjData(model)\n",
    "renderer = mujoco.Renderer(model)\n",
    "\n",
    "mujoco.mj_forward(model, data)\n",
    "renderer.update_scene(data)\n",
    "\n",
    "media.show_image(renderer.render())"
   ]
  }
 ],
 "metadata": {
  "kernelspec": {
   "display_name": "mujoco",
   "language": "python",
   "name": "python3"
  },
  "language_info": {
   "codemirror_mode": {
    "name": "ipython",
    "version": 3
   },
   "file_extension": ".py",
   "mimetype": "text/x-python",
   "name": "python",
   "nbconvert_exporter": "python",
   "pygments_lexer": "ipython3",
   "version": "3.12.2"
  }
 },
 "nbformat": 4,
 "nbformat_minor": 2
}
