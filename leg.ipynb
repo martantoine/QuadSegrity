{
 "cells": [
  {
   "cell_type": "code",
   "execution_count": 9,
   "metadata": {},
   "outputs": [],
   "source": [
    "import mujoco\n",
    "import mujoco.viewer\n",
    "import mediapy as media\n",
    "import numpy as np\n",
    "import time"
   ]
  },
  {
   "cell_type": "code",
   "execution_count": 13,
   "metadata": {},
   "outputs": [
    {
     "data": {
      "text/html": [
       "<table class=\"show_images\" style=\"border-spacing:0px;\"><tr><td style=\"padding:1px;\"><img width=\"320\" height=\"240\" style=\"image-rendering:auto; object-fit:cover;\" src=\"data:image/png;base64,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\"/></td></tr></table>"
      ],
      "text/plain": [
       "<IPython.core.display.HTML object>"
      ]
     },
     "metadata": {},
     "output_type": "display_data"
    }
   ],
   "source": [
    "import mujoco\n",
    "import mediapy as media\n",
    "import numpy as np\n",
    "import time\n",
    "if 'renderer' in locals():\n",
    "    del renderer\n",
    "if 'model' in locals():\n",
    "    del model\n",
    "if 'data' in locals():\n",
    "    del data\n",
    "\n",
    "\n",
    "xml = \"\"\"\n",
    "<mujoco>\n",
    "  <option timestep=\"0.005\" iterations=\"50\" integrator=\"RK4\" tolerance=\"1e-10\"/>\n",
    "\n",
    "  <default>\n",
    "\t  <!--<joint type=\"hinge\" pos=\"0 0 0\" axis=\"0 0 1\" limited=\"true\" range=\"0 120\" damping=\"0.1\"/>-->\n",
    "    <joint type=\"free\"/>\n",
    "    <muscle ctrllimited=\"true\" ctrlrange=\"-1000 1000\"/>\n",
    "    <geom size=\"0.003\" mass=\"0.1\" rgba=\".5 .1 .1 1\"/>\n",
    "    <site size=\"0.005\" rgba=\"0 .7 0 1\"/>\n",
    "    <tendon rgba=\"0 1 0 1\" stiffness=\"1000\" damping=\"15\"/>\n",
    "  </default>\n",
    "\n",
    "  <asset>\n",
    "    <texture name=\"texplane\" type=\"2d\" builtin=\"checker\" rgb1=\".25 .25 .25\" rgb2=\".28 .28 .28\" width=\"512\" height=\"512\" markrgb=\".8 .8 .8\"/>\n",
    "    <material name=\"matplane\" reflectance=\"0.1\" texture=\"texplane\" texrepeat=\"1 1\" texuniform=\"true\"/>\n",
    "  </asset>\n",
    "\n",
    "  <worldbody>   \n",
    "    <geom name=\"floor\" rgba=\"1 1 1 1\" pos=\"0 0 -0.35\" size=\"0 0 1\" type=\"plane\" material=\"matplane\"/>\n",
    "    <light directional=\"true\" diffuse=\".8 .8 .8\" specular=\".2 .2 .2\" pos=\"0 0 5\" dir=\"0 0 -1\"/>\n",
    "  </worldbody>\n",
    "</mujoco>\n",
    "\"\"\"\n",
    "model = mujoco.MjModel.from_xml_string(xml)\n",
    "data = mujoco.MjData(model)\n",
    "mujoco.mj_forward(model, data)\n",
    "\n",
    "\n",
    "renderer = mujoco.Renderer(model)\n",
    "data = mujoco.MjData(model)\n",
    "mujoco.mj_forward(model, data)\n",
    "renderer.update_scene(data)\n",
    "\n",
    "scene = renderer.scene\n",
    "rgba=np.array((0.1, 0.4, .5, 1))\n",
    "\n",
    "def addFork(scene, pos, orientation, rgba):  \n",
    "  scene.ngeom += 1\n",
    "  mujoco.mjv_initGeom(scene.geoms[scene.ngeom-1], mujoco.mjtGeom.mjGEOM_CAPSULE, \n",
    "                      np.zeros(3), np.zeros(3), np.zeros(9), rgba.astype(np.float32))\n",
    "  \n",
    "  mujoco.mjv_makeConnector(scene.geoms[scene.ngeom-1], mujoco.mjtGeom.mjGEOM_CAPSULE, \n",
    "                          pos[0], pos[1], pos[1] 0.0, 1.0, 1.0, 1.0);\n",
    "\n",
    "  # the fork must be a body with a joint of type ball\n",
    "\n",
    "media.show_image(renderer.render())\n"
   ]
  }
 ],
 "metadata": {
  "kernelspec": {
   "display_name": "mujoco",
   "language": "python",
   "name": "python3"
  },
  "language_info": {
   "codemirror_mode": {
    "name": "ipython",
    "version": 3
   },
   "file_extension": ".py",
   "mimetype": "text/x-python",
   "name": "python",
   "nbconvert_exporter": "python",
   "pygments_lexer": "ipython3",
   "version": "3.12.2"
  }
 },
 "nbformat": 4,
 "nbformat_minor": 2
}
